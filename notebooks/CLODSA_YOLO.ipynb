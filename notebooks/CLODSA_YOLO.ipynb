{
  "cells": [
    {
      "cell_type": "markdown",
      "metadata": {
        "id": "view-in-github",
        "colab_type": "text"
      },
      "source": [
        "<a href=\"https://colab.research.google.com/github/DuyLocHoang/product-classification/blob/master/notebooks/CLODSA_YOLO.ipynb\" target=\"_parent\"><img src=\"https://colab.research.google.com/assets/colab-badge.svg\" alt=\"Open In Colab\"/></a>"
      ]
    },
    {
      "cell_type": "markdown",
      "metadata": {
        "id": "2EzlBCSXafQp"
      },
      "source": [
        "# Augmenting a dataset for object detection in YOLO\n",
        "\n",
        "In this notebook, we illustrate how CLODSA can be employed to augment a dataset of images devoted to object detection using the [YOLO format](https://pjreddie.com/darknet/yolo/). In particular, we use a subset of the [Pascal VOC dataset](http://host.robots.ox.ac.uk/pascal/VOC/). We will use 20 images from that dataset. Such a subset can be downloaded by executing the following command. "
      ]
    },
    {
      "cell_type": "code",
      "execution_count": null,
      "metadata": {
        "id": "CUN3bp7kafQt"
      },
      "outputs": [],
      "source": [
        "!wget https://www.dropbox.com/s/7j00clf7tmn1ilm/PascalVOCYOLO.zip?dl=0 -O PascalVOCYOLO.zip\n",
        "!unzip PascalVOCYOLO.zip"
      ]
    },
    {
      "cell_type": "markdown",
      "metadata": {
        "id": "MhjRCzmKafQ4"
      },
      "source": [
        "We can check the amount of images in each one of the folders."
      ]
    },
    {
      "cell_type": "code",
      "execution_count": null,
      "metadata": {
        "id": "He0Hu0_BafQ6"
      },
      "outputs": [],
      "source": [
        "print(\"Number of images in the folder\")\n",
        "!ls -1 PascalVOCYOLO/*.jpg | wc -l"
      ]
    },
    {
      "cell_type": "markdown",
      "metadata": {
        "id": "5n9M6O7oafRP"
      },
      "source": [
        "## Augmentation techniques\n",
        "\n",
        "In this notebook, we will use the following augmentation techniques:\n",
        "- Vertical, horizontal, and vertical-horizontal flips.\n",
        "- 180º Rotation.\n",
        "- Average blurring.\n",
        "- Raise the hue value. "
      ]
    },
    {
      "cell_type": "markdown",
      "metadata": {
        "id": "PUeICW7VafRQ"
      },
      "source": [
        "## Installing the necessary libraries\n",
        "\n",
        "In case that CLODSA is not installed in your system, the first task consists in installing it using ``pip``."
      ]
    },
    {
      "cell_type": "code",
      "execution_count": null,
      "metadata": {
        "id": "7IMnZaD7afRS"
      },
      "outputs": [],
      "source": [
        "!pip install clodsa"
      ]
    },
    {
      "cell_type": "markdown",
      "metadata": {
        "id": "cxA9V3xGafRW"
      },
      "source": [
        "## Loading the necessary libraries\n",
        "\n",
        "The first step in the pipeline consists in loading the necessary libraries to apply the data augmentation techniques in CLODSA. We also load some libraries to show the results."
      ]
    },
    {
      "cell_type": "code",
      "execution_count": null,
      "metadata": {
        "id": "qO1fejKIafRZ"
      },
      "outputs": [],
      "source": [
        "from matplotlib import pyplot as plt\n",
        "from clodsa.augmentors.augmentorFactory import createAugmentor\n",
        "from clodsa.transformers.transformerFactory import transformerGenerator\n",
        "from clodsa.techniques.techniqueFactory import createTechnique\n",
        "import xml.etree.ElementTree as ET\n",
        "import cv2\n",
        "%matplotlib inline"
      ]
    },
    {
      "cell_type": "markdown",
      "metadata": {
        "id": "E_0autm-afRe"
      },
      "source": [
        "## Creating the augmentor object\n",
        "\n",
        "As explained in the documentation of CLODSA, we need to specify some parameters for the augmentation process, and use them to create an augmentor object.  \n",
        "\n",
        "_The kind of problem_. In this case, we are working in a detection problem"
      ]
    },
    {
      "cell_type": "code",
      "execution_count": null,
      "metadata": {
        "id": "hxz6HsATafRg"
      },
      "outputs": [],
      "source": [
        "PROBLEM = \"detection\""
      ]
    },
    {
      "cell_type": "markdown",
      "metadata": {
        "id": "W6O4tVUPafRl"
      },
      "source": [
        "_The annotation mode_. We use the YOLO format. "
      ]
    },
    {
      "cell_type": "code",
      "execution_count": null,
      "metadata": {
        "id": "yNHRztstafRm"
      },
      "outputs": [],
      "source": [
        "ANNOTATION_MODE = \"yolo\""
      ]
    },
    {
      "cell_type": "markdown",
      "metadata": {
        "id": "SiKYMZBYafRq"
      },
      "source": [
        "_The input path_. The input path containing the images. "
      ]
    },
    {
      "cell_type": "code",
      "execution_count": null,
      "metadata": {
        "id": "-pzsCqaXafRs"
      },
      "outputs": [],
      "source": [
        "INPUT_PATH = \"PascalVOCYOLO/\""
      ]
    },
    {
      "cell_type": "markdown",
      "metadata": {
        "id": "XM6Kzl-OafRw"
      },
      "source": [
        "_The generation mode_. In this case, linear, that is, all the augmentation techniques are applied to all the images of the original dataset. "
      ]
    },
    {
      "cell_type": "code",
      "execution_count": null,
      "metadata": {
        "id": "-Tq04z7nafRx"
      },
      "outputs": [],
      "source": [
        "GENERATION_MODE = \"linear\""
      ]
    },
    {
      "cell_type": "markdown",
      "metadata": {
        "id": "kQLgW6izafR1"
      },
      "source": [
        "_The output mode_. The generated images will be stored in a new folder called augmented_images.  "
      ]
    },
    {
      "cell_type": "code",
      "execution_count": null,
      "metadata": {
        "id": "zUWyaD8rafR2"
      },
      "outputs": [],
      "source": [
        "OUTPUT_MODE = \"yolo\"\n",
        "OUTPUT_PATH= \"augmented_images_yolo\""
      ]
    },
    {
      "cell_type": "markdown",
      "metadata": {
        "id": "wwV-nrdJafR5"
      },
      "source": [
        "Using the above information, we can create our augmentor object. "
      ]
    },
    {
      "cell_type": "code",
      "execution_count": null,
      "metadata": {
        "id": "mTaCIQD-afR7"
      },
      "outputs": [],
      "source": [
        "augmentor = createAugmentor(PROBLEM,ANNOTATION_MODE,OUTPUT_MODE,GENERATION_MODE,INPUT_PATH,{\"outputPath\":OUTPUT_PATH})"
      ]
    },
    {
      "cell_type": "markdown",
      "metadata": {
        "id": "QxoQQ3wFafSA"
      },
      "source": [
        "## Adding the augmentation techniques\n",
        "\n",
        "Now, we define the techniques that will be applied in our augmentation process and add them to our augmentor object. To illustrate the transformations, we will use the following image of the dataset. \n",
        "\n"
      ]
    },
    {
      "cell_type": "code",
      "execution_count": null,
      "metadata": {
        "id": "oaQlDpj2afSB"
      },
      "outputs": [],
      "source": [
        "img = cv2.imread(\"PascalVOCYOLO/000001.jpg\")\n",
        "# changing to the BGR format of OpenCV to RGB format for matplotlib\n",
        "plt.imshow(img[:,:,::-1])"
      ]
    },
    {
      "cell_type": "markdown",
      "metadata": {
        "id": "eVnUVKZIafSH"
      },
      "source": [
        "Just for showing the results of applying data augmentation in an object detection problem, we define a function to read the annotations and another one to show them. This funcionality is not necessary when using CLODSA since it is already implemented in there. "
      ]
    },
    {
      "cell_type": "code",
      "execution_count": null,
      "metadata": {
        "id": "sWzxSnYPafSJ"
      },
      "outputs": [],
      "source": [
        "def boxesFromYOLO(imagePath,labelPath):\n",
        "    image = cv2.imread(imagePath)\n",
        "    (hI, wI) = image.shape[:2]\n",
        "    lines = [line.rstrip('\\n') for line in open(labelPath)]\n",
        "    #if(len(objects)<1):\n",
        "    #    raise Exception(\"The xml should contain at least one object\")\n",
        "    boxes = []\n",
        "    if lines != ['']:\n",
        "        for line in lines:\n",
        "            components = line.split(\" \")\n",
        "            category = components[0]\n",
        "            x  = int(float(components[1])*wI - float(components[3])*wI/2)\n",
        "            y = int(float(components[2])*hI - float(components[4])*hI/2)\n",
        "            h = int(float(components[4])*hI)\n",
        "            w = int(float(components[3])*wI)\n",
        "            boxes.append((category, (x, y, w, h)))\n",
        "    return (image,boxes)"
      ]
    },
    {
      "cell_type": "code",
      "execution_count": null,
      "metadata": {
        "id": "I4_Jmo5NafSM"
      },
      "outputs": [],
      "source": [
        "categoriesColors = {11: (255,0,0),14:(0,0,255)}\n",
        "\n",
        "def showBoxes(image,boxes):\n",
        "    cloneImg = image.copy()\n",
        "    for box in boxes:\n",
        "        if(len(box)==2):\n",
        "            (category, (x, y, w, h))=box\n",
        "        else:\n",
        "            (category, (x, y, w, h),_)=box\n",
        "        if int(category) in categoriesColors.keys():\n",
        "            cv2.rectangle(cloneImg,(x,y),(x+w,y+h),categoriesColors[int(category)],5)\n",
        "        else:\n",
        "            cv2.rectangle(cloneImg,(x,y),(x+w,y+h),(0,255,0),5)\n",
        "    plt.imshow(cloneImg[:,:,::-1])\n",
        "    "
      ]
    },
    {
      "cell_type": "markdown",
      "metadata": {
        "id": "jUc0j53dafSO"
      },
      "source": [
        "Now, we show the annotation of the image."
      ]
    },
    {
      "cell_type": "code",
      "execution_count": null,
      "metadata": {
        "id": "SyopvrsPafSQ"
      },
      "outputs": [],
      "source": [
        "img,boxes = boxesFromYOLO(\"PascalVOCYOLO/000001.jpg\",\"PascalVOCYOLO/000001.txt\")\n",
        "showBoxes(img,boxes)"
      ]
    },
    {
      "cell_type": "markdown",
      "metadata": {
        "id": "aIdFgzn9Ak3x"
      },
      "source": [
        "First of all, we must define a transformer generator."
      ]
    },
    {
      "cell_type": "code",
      "execution_count": null,
      "metadata": {
        "id": "GSCJrrU-Ak3x"
      },
      "outputs": [],
      "source": [
        "transformer = transformerGenerator(PROBLEM)"
      ]
    },
    {
      "cell_type": "markdown",
      "metadata": {
        "id": "Vax19fU3afSV"
      },
      "source": [
        "#### Vertical flip"
      ]
    },
    {
      "cell_type": "code",
      "execution_count": null,
      "metadata": {
        "id": "60yK0EbHafSW"
      },
      "outputs": [],
      "source": [
        "vFlip = createTechnique(\"flip\",{\"flip\":0})\n",
        "augmentor.addTransformer(transformer(vFlip))"
      ]
    },
    {
      "cell_type": "markdown",
      "metadata": {
        "id": "yFAtSKmTafSY"
      },
      "source": [
        "Showing the result of applying the transformation."
      ]
    },
    {
      "cell_type": "code",
      "execution_count": null,
      "metadata": {
        "id": "sSTjCJQ4afSZ"
      },
      "outputs": [],
      "source": [
        "plt.figure()\n",
        "plt.title(\"Original\")\n",
        "showBoxes(img,boxes)\n",
        "vFlipGenerator = transformer(vFlip)\n",
        "vFlipImg,vFlipBoxes = vFlipGenerator.transform(img,boxes)\n",
        "plt.figure()\n",
        "plt.title(\"Transformed\")\n",
        "showBoxes(vFlipImg,vFlipBoxes)"
      ]
    },
    {
      "cell_type": "markdown",
      "metadata": {
        "id": "b3fsGvQfafSc"
      },
      "source": [
        "#### Horizontal flip"
      ]
    },
    {
      "cell_type": "code",
      "execution_count": null,
      "metadata": {
        "id": "xx7VxTUSafSe"
      },
      "outputs": [],
      "source": [
        "hFlip = createTechnique(\"flip\",{\"flip\":1})\n",
        "augmentor.addTransformer(transformer(hFlip))"
      ]
    },
    {
      "cell_type": "markdown",
      "metadata": {
        "id": "fMDc9LTqafSh"
      },
      "source": [
        "Showing the result of applying the transformation."
      ]
    },
    {
      "cell_type": "code",
      "execution_count": null,
      "metadata": {
        "id": "UQadcJ1SafSi"
      },
      "outputs": [],
      "source": [
        "plt.figure()\n",
        "plt.title(\"Original\")\n",
        "showBoxes(img,boxes)\n",
        "hFlipGenerator = transformer(hFlip)\n",
        "hFlipImg,hFlipBoxes = hFlipGenerator.transform(img,boxes)\n",
        "plt.figure()\n",
        "plt.title(\"Transformed\")\n",
        "showBoxes(hFlipImg,hFlipBoxes)"
      ]
    },
    {
      "cell_type": "markdown",
      "metadata": {
        "id": "PWGlYPUjafSm"
      },
      "source": [
        "#### Horizontal and vertical flip"
      ]
    },
    {
      "cell_type": "code",
      "execution_count": null,
      "metadata": {
        "id": "z-A_1OCOafSo"
      },
      "outputs": [],
      "source": [
        "hvFlip = createTechnique(\"flip\",{\"flip\":-1})\n",
        "augmentor.addTransformer(transformer(hvFlip))"
      ]
    },
    {
      "cell_type": "markdown",
      "metadata": {
        "id": "2ULr-hKyafSr"
      },
      "source": [
        "Showing the result of applying the transformation."
      ]
    },
    {
      "cell_type": "code",
      "execution_count": null,
      "metadata": {
        "id": "G2Ko-lGkafSs"
      },
      "outputs": [],
      "source": [
        "plt.figure()\n",
        "plt.title(\"Original\")\n",
        "showBoxes(img,boxes)\n",
        "hvFlipGenerator = transformer(hvFlip)\n",
        "hvFlipImg,hvFlipBoxes = hvFlipGenerator.transform(img,boxes)\n",
        "plt.figure()\n",
        "plt.title(\"Transformed\")\n",
        "showBoxes(hvFlipImg,hvFlipBoxes)"
      ]
    },
    {
      "cell_type": "markdown",
      "metadata": {
        "id": "kZzS82tnafSw"
      },
      "source": [
        "#### Rotation:"
      ]
    },
    {
      "cell_type": "code",
      "execution_count": null,
      "metadata": {
        "id": "ZJ7eV97aafSx"
      },
      "outputs": [],
      "source": [
        "rotate = createTechnique(\"rotate\", {\"angle\" : 90})\n",
        "augmentor.addTransformer(transformer(rotate))"
      ]
    },
    {
      "cell_type": "markdown",
      "metadata": {
        "id": "smI7ogocafSz"
      },
      "source": [
        "Showing the result of applying the transformation."
      ]
    },
    {
      "cell_type": "code",
      "execution_count": null,
      "metadata": {
        "id": "NH56U8N-afS0"
      },
      "outputs": [],
      "source": [
        "plt.figure()\n",
        "plt.title(\"Original\")\n",
        "showBoxes(img,boxes)\n",
        "rotateGenerator = transformer(rotate)\n",
        "rotateImg,rotateBoxes = rotateGenerator.transform(img,boxes)\n",
        "plt.figure()\n",
        "plt.title(\"Transformed\")\n",
        "showBoxes(rotateImg,rotateBoxes)"
      ]
    },
    {
      "cell_type": "markdown",
      "metadata": {
        "id": "MXXVAlmNafS4"
      },
      "source": [
        "#### Average blurring"
      ]
    },
    {
      "cell_type": "code",
      "execution_count": null,
      "metadata": {
        "id": "Q_SSywejafS4"
      },
      "outputs": [],
      "source": [
        "avgBlur =  createTechnique(\"average_blurring\", {\"kernel\" : 5})\n",
        "augmentor.addTransformer(transformer(avgBlur))"
      ]
    },
    {
      "cell_type": "markdown",
      "metadata": {
        "id": "ZYUtZGZYafS7"
      },
      "source": [
        "Showing the result of applying the transformation."
      ]
    },
    {
      "cell_type": "code",
      "execution_count": null,
      "metadata": {
        "id": "ihZmSF5cafS8"
      },
      "outputs": [],
      "source": [
        "plt.figure()\n",
        "plt.title(\"Original\")\n",
        "showBoxes(img,boxes)\n",
        "avgBlurGenerator = transformer(avgBlur)\n",
        "avgBlurImg,avgBlurBoxes = avgBlurGenerator.transform(img,boxes)\n",
        "plt.figure()\n",
        "plt.title(\"Transformed\")\n",
        "showBoxes(avgBlurImg,avgBlurBoxes)"
      ]
    },
    {
      "cell_type": "markdown",
      "metadata": {
        "id": "dXkbUjOWafTA"
      },
      "source": [
        "#### Raise Hue"
      ]
    },
    {
      "cell_type": "code",
      "execution_count": null,
      "metadata": {
        "id": "G2SVb0kyafTC"
      },
      "outputs": [],
      "source": [
        "hue = createTechnique(\"raise_hue\", {\"power\" : 0.9})\n",
        "augmentor.addTransformer(transformer(hue))"
      ]
    },
    {
      "cell_type": "markdown",
      "metadata": {
        "id": "VTSEuBsVafTE"
      },
      "source": [
        "Showing the result of applying the transformation."
      ]
    },
    {
      "cell_type": "code",
      "execution_count": null,
      "metadata": {
        "id": "P3kCoRtRafTF"
      },
      "outputs": [],
      "source": [
        "plt.figure()\n",
        "plt.title(\"Original\")\n",
        "showBoxes(img,boxes)\n",
        "hueGenerator = transformer(hue)\n",
        "hueImg,hueBoxes = hueGenerator.transform(img,boxes)\n",
        "plt.figure()\n",
        "plt.title(\"Transformed\")\n",
        "showBoxes(hueImg,hueBoxes)"
      ]
    },
    {
      "cell_type": "markdown",
      "metadata": {
        "id": "AaNg2ruiafTJ"
      },
      "source": [
        "#### None\n",
        "(to keep also the original image)"
      ]
    },
    {
      "cell_type": "code",
      "execution_count": null,
      "metadata": {
        "id": "-m2oNi_AafTL"
      },
      "outputs": [],
      "source": [
        "none = createTechnique(\"none\",{})\n",
        "augmentor.addTransformer(transformer(none))"
      ]
    },
    {
      "cell_type": "markdown",
      "metadata": {
        "id": "ouZ-I-DbafTO"
      },
      "source": [
        "## Applying the augmentation process\n",
        "\n",
        "Finally, we apply the augmentation process (this might take some time depending on the number of images of the original dataset and the number of transformations that will be applied). "
      ]
    },
    {
      "cell_type": "code",
      "execution_count": null,
      "metadata": {
        "id": "owRG290NafTO"
      },
      "outputs": [],
      "source": [
        "augmentor.applyAugmentation()"
      ]
    },
    {
      "cell_type": "markdown",
      "metadata": {
        "id": "ZydpyBjTafTT"
      },
      "source": [
        "Finally, we can check the amount of images in the output folder."
      ]
    },
    {
      "cell_type": "code",
      "execution_count": null,
      "metadata": {
        "id": "atu1eEVUafTU"
      },
      "outputs": [],
      "source": [
        "print(\"Number of images in the folder\")\n",
        "!ls -1 augmented_images_yolo/*.jpg | wc -l\n",
        "print(\"Number of annotations in the folder\")\n",
        "!ls -1 augmented_images_yolo/*.txt | wc -l"
      ]
    },
    {
      "cell_type": "code",
      "metadata": {
        "collapsed": true,
        "id": "NnlkZUUrafTX"
      },
      "source": [
        "If you are executing this notebook in Colaboratory, you need to download the generated files. To that aim, you can create a zip folder and download it using the following commands. "
      ],
      "execution_count": null,
      "outputs": []
    },
    {
      "cell_type": "code",
      "execution_count": null,
      "metadata": {
        "id": "NwohbcMlAk32"
      },
      "outputs": [],
      "source": [
        "!zip -r augmented_images_yolo.zip augmented_images_yolo\n",
        "from google.colab import files\n",
        "files.download('augmented_images_yolo.zip')"
      ]
    }
  ],
  "metadata": {
    "colab": {
      "name": "CLODSA_Plants.ipynb",
      "provenance": [],
      "include_colab_link": true
    },
    "kernelspec": {
      "display_name": "Python 3",
      "language": "python",
      "name": "python3"
    },
    "language_info": {
      "codemirror_mode": {
        "name": "ipython",
        "version": 3
      },
      "file_extension": ".py",
      "mimetype": "text/x-python",
      "name": "python",
      "nbconvert_exporter": "python",
      "pygments_lexer": "ipython3",
      "version": "3.6.7"
    }
  },
  "nbformat": 4,
  "nbformat_minor": 0
}